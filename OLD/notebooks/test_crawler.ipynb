{
 "cells": [
  {
   "cell_type": "code",
   "execution_count": null,
   "id": "3f99d656",
   "metadata": {},
   "outputs": [],
   "source": [
    "%load_ext autoreload\n",
    "%autoreload 2\n"
   ]
  },
  {
   "cell_type": "code",
   "execution_count": null,
   "id": "57f58491",
   "metadata": {},
   "outputs": [],
   "source": [
    "import pandas as pd\n",
    "import pymongo\n",
    "import sys\n",
    "import requests\n",
    "import urllib"
   ]
  },
  {
   "cell_type": "code",
   "execution_count": null,
   "id": "822ad0a3",
   "metadata": {},
   "outputs": [],
   "source": [
    "pkt_file='/data/DEVEL/NEXTP/incoming/outsiders_2021.parquet'"
   ]
  },
  {
   "cell_type": "code",
   "execution_count": null,
   "id": "a0a9b648",
   "metadata": {},
   "outputs": [],
   "source": [
    "data_table = pd.read_parquet(pkt_file, use_nullable_dtypes=True)"
   ]
  },
  {
   "cell_type": "code",
   "execution_count": null,
   "id": "613aca3d",
   "metadata": {},
   "outputs": [],
   "source": [
    "data_table.columns\n"
   ]
  },
  {
   "cell_type": "code",
   "execution_count": null,
   "id": "af574395",
   "metadata": {},
   "outputs": [],
   "source": [
    "i = 0\n",
    "for url in data_table['Pliego de cláusulas administrativas (URI)']:\n",
    "    if pd.notna(url):\n",
    "        print(url)\n",
    "        r = requests.get(url, stream=True)\n",
    "        if r.status_code == 200:\n",
    "            with open(f'output{i}.pdf', 'bw') as output_file:\n",
    "                output_file.write(r.content)\n",
    "            i += 1\n"
   ]
  },
  {
   "cell_type": "code",
   "execution_count": null,
   "id": "0e9a46ce",
   "metadata": {},
   "outputs": [],
   "source": []
  }
 ],
 "metadata": {
  "kernelspec": {
   "display_name": "Python 3 (ipykernel)",
   "language": "python",
   "name": "python3"
  },
  "language_info": {
   "codemirror_mode": {
    "name": "ipython",
    "version": 3
   },
   "file_extension": ".py",
   "mimetype": "text/x-python",
   "name": "python",
   "nbconvert_exporter": "python",
   "pygments_lexer": "ipython3",
   "version": "3.8.13"
  }
 },
 "nbformat": 4,
 "nbformat_minor": 5
}
