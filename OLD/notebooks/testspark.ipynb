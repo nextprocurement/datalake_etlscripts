{
 "cells": [
  {
   "cell_type": "code",
   "execution_count": 1,
   "id": "215c939e",
   "metadata": {},
   "outputs": [],
   "source": [
    "%load_ext autoreload\n",
    "%autoreload 2\n"
   ]
  },
  {
   "cell_type": "code",
   "execution_count": 2,
   "id": "17ef580e",
   "metadata": {},
   "outputs": [],
   "source": [
    "from pyspark.sql import SparkSession\n",
    "from pyspark.conf import SparkConf\n",
    "from os.path import join as opj"
   ]
  },
  {
   "cell_type": "code",
   "execution_count": 3,
   "id": "8882d23e",
   "metadata": {},
   "outputs": [],
   "source": [
    "data_dir = '/data/DEVEL/NEXTP/incoming/Julio_2022/teddata/tedplace/2021/'"
   ]
  },
  {
   "cell_type": "code",
   "execution_count": 4,
   "id": "d3c53435",
   "metadata": {},
   "outputs": [
    {
     "name": "stderr",
     "output_type": "stream",
     "text": [
      "WARNING: An illegal reflective access operation has occurred\n",
      "WARNING: Illegal reflective access by org.apache.spark.unsafe.Platform (file:/home/gelpi/miniconda3/envs/nextp/lib/python3.8/site-packages/pyspark/jars/spark-unsafe_2.12-3.1.2.jar) to constructor java.nio.DirectByteBuffer(long,int)\n",
      "WARNING: Please consider reporting this to the maintainers of org.apache.spark.unsafe.Platform\n",
      "WARNING: Use --illegal-access=warn to enable warnings of further illegal reflective access operations\n",
      "WARNING: All illegal access operations will be denied in a future release\n",
      "22/07/25 12:21:06 WARN NativeCodeLoader: Unable to load native-hadoop library for your platform... using builtin-java classes where applicable\n",
      "Using Spark's default log4j profile: org/apache/spark/log4j-defaults.properties\n",
      "Setting default log level to \"WARN\".\n",
      "To adjust logging level use sc.setLogLevel(newLevel). For SparkR, use setLogLevel(newLevel).\n"
     ]
    }
   ],
   "source": [
    "spark = SparkSession.builder.master(\"local\").config('spark.driver.bindAddress','127.0.0.1').getOrCreate()"
   ]
  },
  {
   "cell_type": "code",
   "execution_count": 6,
   "id": "2698d167",
   "metadata": {},
   "outputs": [
    {
     "name": "stderr",
     "output_type": "stream",
     "text": [
      "                                                                                \r"
     ]
    }
   ],
   "source": [
    "df = spark.read.parquet(opj(data_dir,'*'))"
   ]
  },
  {
   "cell_type": "code",
   "execution_count": 7,
   "id": "f53a52fa",
   "metadata": {},
   "outputs": [
    {
     "name": "stderr",
     "output_type": "stream",
     "text": [
      "                                                                                \r"
     ]
    },
    {
     "data": {
      "text/plain": [
       "616292"
      ]
     },
     "execution_count": 7,
     "metadata": {},
     "output_type": "execute_result"
    }
   ],
   "source": [
    "df.count()"
   ]
  },
  {
   "cell_type": "code",
   "execution_count": 8,
   "id": "b19cc5e9",
   "metadata": {},
   "outputs": [
    {
     "name": "stdout",
     "output_type": "stream",
     "text": [
      "root\n",
      " |-- CriterioDeAdjudicacion: map (nullable = true)\n",
      " |    |-- key: string\n",
      " |    |-- value: map (valueContainsNull = true)\n",
      " |    |    |-- key: string\n",
      " |    |    |-- value: string (valueContainsNull = true)\n",
      " |-- DatosGeneralesDelExpediente: map (nullable = true)\n",
      " |    |-- key: string\n",
      " |    |-- value: array (valueContainsNull = true)\n",
      " |    |    |-- element: map (containsNull = true)\n",
      " |    |    |    |-- key: string\n",
      " |    |    |    |-- value: string (valueContainsNull = true)\n",
      " |-- EntidadAdjudicadora: map (nullable = true)\n",
      " |    |-- key: string\n",
      " |    |-- value: string (valueContainsNull = true)\n",
      " |-- LugarDeEjecucion: map (nullable = true)\n",
      " |    |-- key: string\n",
      " |    |-- value: string (valueContainsNull = true)\n",
      " |-- PlazoDePresentacionDeOferta: map (nullable = true)\n",
      " |    |-- key: string\n",
      " |    |-- value: string (valueContainsNull = true)\n",
      " |-- PlazoDePresentacionDeSolicitudes: map (nullable = true)\n",
      " |    |-- key: string\n",
      " |    |-- value: string (valueContainsNull = true)\n",
      " |-- ProcesoDeLicitacion: map (nullable = true)\n",
      " |    |-- key: string\n",
      " |    |-- value: map (valueContainsNull = true)\n",
      " |    |    |-- key: string\n",
      " |    |    |-- value: string (valueContainsNull = true)\n",
      " |-- PublicacionesOficiales: map (nullable = true)\n",
      " |    |-- key: string\n",
      " |    |-- value: string (valueContainsNull = true)\n",
      " |-- Ted_doc_id: string (nullable = true)\n",
      " |-- Ted_form_id: string (nullable = true)\n",
      " |-- Ted_reception_id: string (nullable = true)\n",
      " |-- Ted_year: string (nullable = true)\n",
      "\n"
     ]
    }
   ],
   "source": [
    "df.createOrReplaceTempView(\"Table\")\n",
    "df.printSchema()"
   ]
  },
  {
   "cell_type": "code",
   "execution_count": 10,
   "id": "eb0d0a85",
   "metadata": {},
   "outputs": [
    {
     "data": {
      "text/plain": [
       "{'CriterioDeAdjudicacion': {'Descripcion': {'value': '2',\n",
       "   'text': 'The most economic tender'}},\n",
       " 'DatosGeneralesDelExpediente': {'Clasificacion CPV': [{'value': '60130000',\n",
       "    'text': 'Special-purpose road passenger-transport services'},\n",
       "   {'value': '60140000', 'text': 'Non-scheduled passenger transport'}],\n",
       "  'Objeto del contrato': None,\n",
       "  'Tipo de contrato': None,\n",
       "  'Pliego de clausulas administrativas': None,\n",
       "  'Valor estimado del contrato': None},\n",
       " 'EntidadAdjudicadora': {'Actividad': '[{value=S, text=General public services}]',\n",
       "  'Ubicacion organica': '[{value=NO, text=NO}]',\n",
       "  'URL perfil de contratante': 'https://permalink.mercell.com/165533970.aspx',\n",
       "  'Tipo de administracion': '{value=3, text=Regional or local authority}',\n",
       "  'Sitio web': 'https://permalink.mercell.com/165533970.aspx'},\n",
       " 'LugarDeEjecucion': {'Pais': 'NO'},\n",
       " 'PlazoDePresentacionDeOferta': {'Fecha': '20211126 12:00'},\n",
       " 'PlazoDePresentacionDeSolicitudes': {'Fecha': '20211126 12:00'},\n",
       " 'ProcesoDeLicitacion': {'Tramitacion': {'value': '1',\n",
       "   'text': 'Open procedure'},\n",
       "  'Descripcion': {'value': '1', 'text': 'Submission for all lots'}},\n",
       " 'PublicacionesOficiales': {'Fecha de envio de anuncio al diario oficial': '20211029',\n",
       "  'Fecha de Publicación': '20211026'},\n",
       " 'Ted_doc_id': '557563-2021',\n",
       " 'Ted_form_id': 'F02_2014',\n",
       " 'Ted_reception_id': '21-571027-001',\n",
       " 'Ted_year': '2021'}"
      ]
     },
     "execution_count": 10,
     "metadata": {},
     "output_type": "execute_result"
    }
   ],
   "source": [
    "df.first().asDict()"
   ]
  },
  {
   "cell_type": "code",
   "execution_count": null,
   "id": "52084724",
   "metadata": {},
   "outputs": [],
   "source": [
    "df.foreach(lambda x: print(x.asDict()))"
   ]
  },
  {
   "cell_type": "code",
   "execution_count": null,
   "id": "468835c3",
   "metadata": {},
   "outputs": [],
   "source": []
  }
 ],
 "metadata": {
  "kernelspec": {
   "display_name": "Python 3 (ipykernel)",
   "language": "python",
   "name": "python3"
  },
  "language_info": {
   "codemirror_mode": {
    "name": "ipython",
    "version": 3
   },
   "file_extension": ".py",
   "mimetype": "text/x-python",
   "name": "python",
   "nbconvert_exporter": "python",
   "pygments_lexer": "ipython3",
   "version": "3.8.13"
  }
 },
 "nbformat": 4,
 "nbformat_minor": 5
}
